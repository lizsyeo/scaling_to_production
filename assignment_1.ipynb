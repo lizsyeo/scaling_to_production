{
 "cells": [
  {
   "cell_type": "markdown",
   "metadata": {},
   "source": [
    "# Working with parquet files\n",
    "\n",
    "## Objective\n",
    "\n",
    "+ In this assignment, we will use the data downloaded with the module `data_manager` to create features.\n",
    "\n",
    "(11 pts total)\n",
    "\n",
    "## Prerequisites\n",
    "\n",
    "+ This notebook assumes that price data is available to you in the environment variable `PRICE_DATA`. If you have not done so, then execute the notebook `production_2_data_engineering.ipynb` to create this data set.\n"
   ]
  },
  {
   "cell_type": "markdown",
   "metadata": {},
   "source": [
    "+ Load the environment variables using dotenv. (1 pt)"
   ]
  },
  {
   "cell_type": "code",
   "execution_count": 1,
   "metadata": {},
   "outputs": [],
   "source": [
    "# Write your code below.\n",
    "\n",
    "%load_ext dotenv\n",
    "%dotenv ../01_materials/labs/.env\n"
   ]
  },
  {
   "cell_type": "code",
   "execution_count": 2,
   "metadata": {},
   "outputs": [],
   "source": [
    "import dask\n",
    "dask.config.set({'dataframe.query-planning': True})\n",
    "import dask.dataframe as dd"
   ]
  },
  {
   "cell_type": "markdown",
   "metadata": {},
   "source": [
    "+ Load the environment variable `PRICE_DATA`.\n",
    "+ Use [glob](https://docs.python.org/3/library/glob.html) to find the path of all parquet files in the directory `PRICE_DATA`.\n",
    "\n",
    "(1pt)"
   ]
  },
  {
   "cell_type": "code",
   "execution_count": 4,
   "metadata": {},
   "outputs": [
    {
     "name": "stdout",
     "output_type": "stream",
     "text": [
      "PRICE_DATA_path:../../05_src/data/prices/\n"
     ]
    }
   ],
   "source": [
    "import os\n",
    "from glob import glob\n",
    "\n",
    "# Write your code below.\n",
    "#load the env variable 'PRICE DATA'\n",
    "price_data_path =os.getenv('PRICE_DATA')\n",
    "print(f\"PRICE_DATA_path:{price_data_path}\")\n",
    "\n"
   ]
  },
  {
   "cell_type": "code",
   "execution_count": 7,
   "metadata": {},
   "outputs": [
    {
     "name": "stdout",
     "output_type": "stream",
     "text": [
      "Parquet files: ['../../05_src/data/prices/AMZN/AMZN_2023.parquet', '../../05_src/data/prices/AMZN/AMZN_2015.parquet', '../../05_src/data/prices/AMZN/AMZN_2014.parquet', '../../05_src/data/prices/AMZN/AMZN_2022.parquet', '../../05_src/data/prices/AMZN/AMZN_2016.parquet', '../../05_src/data/prices/AMZN/AMZN_2020.parquet', '../../05_src/data/prices/AMZN/AMZN_2021.parquet', '../../05_src/data/prices/AMZN/AMZN_2017.parquet', '../../05_src/data/prices/AMZN/AMZN_2024.parquet', '../../05_src/data/prices/AMZN/AMZN_2013.parquet', '../../05_src/data/prices/AMZN/AMZN_2018.parquet', '../../05_src/data/prices/AMZN/AMZN_2019.parquet', '../../05_src/data/prices/RCL/RCL_2019.parquet', '../../05_src/data/prices/RCL/RCL_2018.parquet', '../../05_src/data/prices/RCL/RCL_2013.parquet', '../../05_src/data/prices/RCL/RCL_2024.parquet', '../../05_src/data/prices/RCL/RCL_2021.parquet', '../../05_src/data/prices/RCL/RCL_2017.parquet', '../../05_src/data/prices/RCL/RCL_2016.parquet', '../../05_src/data/prices/RCL/RCL_2020.parquet', '../../05_src/data/prices/RCL/RCL_2014.parquet', '../../05_src/data/prices/RCL/RCL_2022.parquet', '../../05_src/data/prices/RCL/RCL_2023.parquet', '../../05_src/data/prices/RCL/RCL_2015.parquet', '../../05_src/data/prices/KHC/KHC_2017.parquet', '../../05_src/data/prices/KHC/KHC_2021.parquet', '../../05_src/data/prices/KHC/KHC_2020.parquet', '../../05_src/data/prices/KHC/KHC_2016.parquet', '../../05_src/data/prices/KHC/KHC_2022.parquet', '../../05_src/data/prices/KHC/KHC_2015.parquet', '../../05_src/data/prices/KHC/KHC_2023.parquet', '../../05_src/data/prices/KHC/KHC_2019.parquet', '../../05_src/data/prices/KHC/KHC_2018.parquet', '../../05_src/data/prices/KHC/KHC_2024.parquet', '../../05_src/data/prices/BRO/BRO_2024.parquet', '../../05_src/data/prices/BRO/BRO_2013.parquet', '../../05_src/data/prices/BRO/BRO_2018.parquet', '../../05_src/data/prices/BRO/BRO_2019.parquet', '../../05_src/data/prices/BRO/BRO_2015.parquet', '../../05_src/data/prices/BRO/BRO_2023.parquet', '../../05_src/data/prices/BRO/BRO_2022.parquet', '../../05_src/data/prices/BRO/BRO_2014.parquet', '../../05_src/data/prices/BRO/BRO_2020.parquet', '../../05_src/data/prices/BRO/BRO_2016.parquet', '../../05_src/data/prices/BRO/BRO_2017.parquet', '../../05_src/data/prices/BRO/BRO_2021.parquet', '../../05_src/data/prices/MMM/MMM_2023.parquet', '../../05_src/data/prices/MMM/MMM_2015.parquet', '../../05_src/data/prices/MMM/MMM_2014.parquet', '../../05_src/data/prices/MMM/MMM_2022.parquet', '../../05_src/data/prices/MMM/MMM_2016.parquet', '../../05_src/data/prices/MMM/MMM_2020.parquet', '../../05_src/data/prices/MMM/MMM_2021.parquet', '../../05_src/data/prices/MMM/MMM_2017.parquet', '../../05_src/data/prices/MMM/MMM_2024.parquet', '../../05_src/data/prices/MMM/MMM_2013.parquet', '../../05_src/data/prices/MMM/MMM_2018.parquet', '../../05_src/data/prices/MMM/MMM_2019.parquet', '../../05_src/data/prices/MAS/MAS_2024.parquet', '../../05_src/data/prices/MAS/MAS_2013.parquet', '../../05_src/data/prices/MAS/MAS_2018.parquet', '../../05_src/data/prices/MAS/MAS_2019.parquet', '../../05_src/data/prices/MAS/MAS_2015.parquet', '../../05_src/data/prices/MAS/MAS_2023.parquet', '../../05_src/data/prices/MAS/MAS_2022.parquet', '../../05_src/data/prices/MAS/MAS_2014.parquet', '../../05_src/data/prices/MAS/MAS_2020.parquet', '../../05_src/data/prices/MAS/MAS_2016.parquet', '../../05_src/data/prices/MAS/MAS_2017.parquet', '../../05_src/data/prices/MAS/MAS_2021.parquet', '../../05_src/data/prices/VLO/VLO_2019.parquet', '../../05_src/data/prices/VLO/VLO_2018.parquet', '../../05_src/data/prices/VLO/VLO_2013.parquet', '../../05_src/data/prices/VLO/VLO_2024.parquet', '../../05_src/data/prices/VLO/VLO_2021.parquet', '../../05_src/data/prices/VLO/VLO_2017.parquet', '../../05_src/data/prices/VLO/VLO_2016.parquet', '../../05_src/data/prices/VLO/VLO_2020.parquet', '../../05_src/data/prices/VLO/VLO_2014.parquet', '../../05_src/data/prices/VLO/VLO_2022.parquet', '../../05_src/data/prices/VLO/VLO_2023.parquet', '../../05_src/data/prices/VLO/VLO_2015.parquet', '../../05_src/data/prices/CVX/CVX_2014.parquet', '../../05_src/data/prices/CVX/CVX_2022.parquet', '../../05_src/data/prices/CVX/CVX_2023.parquet', '../../05_src/data/prices/CVX/CVX_2015.parquet', '../../05_src/data/prices/CVX/CVX_2021.parquet', '../../05_src/data/prices/CVX/CVX_2017.parquet', '../../05_src/data/prices/CVX/CVX_2016.parquet', '../../05_src/data/prices/CVX/CVX_2020.parquet', '../../05_src/data/prices/CVX/CVX_2013.parquet', '../../05_src/data/prices/CVX/CVX_2024.parquet', '../../05_src/data/prices/CVX/CVX_2019.parquet', '../../05_src/data/prices/CVX/CVX_2018.parquet', '../../05_src/data/prices/GS/GS_2017.parquet', '../../05_src/data/prices/GS/GS_2021.parquet', '../../05_src/data/prices/GS/GS_2020.parquet', '../../05_src/data/prices/GS/GS_2016.parquet', '../../05_src/data/prices/GS/GS_2022.parquet', '../../05_src/data/prices/GS/GS_2014.parquet', '../../05_src/data/prices/GS/GS_2015.parquet', '../../05_src/data/prices/GS/GS_2023.parquet', '../../05_src/data/prices/GS/GS_2019.parquet', '../../05_src/data/prices/GS/GS_2018.parquet', '../../05_src/data/prices/GS/GS_2013.parquet', '../../05_src/data/prices/GS/GS_2024.parquet', '../../05_src/data/prices/LIN/LIN_2019.parquet', '../../05_src/data/prices/LIN/LIN_2018.parquet', '../../05_src/data/prices/LIN/LIN_2013.parquet', '../../05_src/data/prices/LIN/LIN_2024.parquet', '../../05_src/data/prices/LIN/LIN_2017.parquet', '../../05_src/data/prices/LIN/LIN_2021.parquet', '../../05_src/data/prices/LIN/LIN_2020.parquet', '../../05_src/data/prices/LIN/LIN_2016.parquet', '../../05_src/data/prices/LIN/LIN_2022.parquet', '../../05_src/data/prices/LIN/LIN_2014.parquet', '../../05_src/data/prices/LIN/LIN_2015.parquet', '../../05_src/data/prices/LIN/LIN_2023.parquet', '../../05_src/data/prices/BX/BX_2018.parquet', '../../05_src/data/prices/BX/BX_2019.parquet', '../../05_src/data/prices/BX/BX_2024.parquet', '../../05_src/data/prices/BX/BX_2013.parquet', '../../05_src/data/prices/BX/BX_2016.parquet', '../../05_src/data/prices/BX/BX_2020.parquet', '../../05_src/data/prices/BX/BX_2021.parquet', '../../05_src/data/prices/BX/BX_2017.parquet', '../../05_src/data/prices/BX/BX_2023.parquet', '../../05_src/data/prices/BX/BX_2015.parquet', '../../05_src/data/prices/BX/BX_2014.parquet', '../../05_src/data/prices/BX/BX_2022.parquet', '../../05_src/data/prices/KVUE/KVUE_2024.parquet', '../../05_src/data/prices/KVUE/KVUE_2023.parquet', '../../05_src/data/prices/MU/MU_2014.parquet', '../../05_src/data/prices/MU/MU_2022.parquet', '../../05_src/data/prices/MU/MU_2023.parquet', '../../05_src/data/prices/MU/MU_2015.parquet', '../../05_src/data/prices/MU/MU_2021.parquet', '../../05_src/data/prices/MU/MU_2017.parquet', '../../05_src/data/prices/MU/MU_2016.parquet', '../../05_src/data/prices/MU/MU_2020.parquet', '../../05_src/data/prices/MU/MU_2013.parquet', '../../05_src/data/prices/MU/MU_2024.parquet', '../../05_src/data/prices/MU/MU_2019.parquet', '../../05_src/data/prices/MU/MU_2018.parquet', '../../05_src/data/prices/FIS/FIS_2017.parquet', '../../05_src/data/prices/FIS/FIS_2021.parquet', '../../05_src/data/prices/FIS/FIS_2020.parquet', '../../05_src/data/prices/FIS/FIS_2016.parquet', '../../05_src/data/prices/FIS/FIS_2022.parquet', '../../05_src/data/prices/FIS/FIS_2014.parquet', '../../05_src/data/prices/FIS/FIS_2015.parquet', '../../05_src/data/prices/FIS/FIS_2023.parquet', '../../05_src/data/prices/FIS/FIS_2019.parquet', '../../05_src/data/prices/FIS/FIS_2018.parquet', '../../05_src/data/prices/FIS/FIS_2013.parquet', '../../05_src/data/prices/FIS/FIS_2024.parquet', '../../05_src/data/prices/AWK/AWK_2019.parquet', '../../05_src/data/prices/AWK/AWK_2018.parquet', '../../05_src/data/prices/AWK/AWK_2013.parquet', '../../05_src/data/prices/AWK/AWK_2024.parquet', '../../05_src/data/prices/AWK/AWK_2017.parquet', '../../05_src/data/prices/AWK/AWK_2021.parquet', '../../05_src/data/prices/AWK/AWK_2020.parquet', '../../05_src/data/prices/AWK/AWK_2016.parquet', '../../05_src/data/prices/AWK/AWK_2022.parquet', '../../05_src/data/prices/AWK/AWK_2014.parquet', '../../05_src/data/prices/AWK/AWK_2015.parquet', '../../05_src/data/prices/AWK/AWK_2023.parquet', '../../05_src/data/prices/EPAM/EPAM_2019.parquet', '../../05_src/data/prices/EPAM/EPAM_2018.parquet', '../../05_src/data/prices/EPAM/EPAM_2013.parquet', '../../05_src/data/prices/EPAM/EPAM_2024.parquet', '../../05_src/data/prices/EPAM/EPAM_2017.parquet', '../../05_src/data/prices/EPAM/EPAM_2021.parquet', '../../05_src/data/prices/EPAM/EPAM_2020.parquet', '../../05_src/data/prices/EPAM/EPAM_2016.parquet', '../../05_src/data/prices/EPAM/EPAM_2022.parquet', '../../05_src/data/prices/EPAM/EPAM_2014.parquet', '../../05_src/data/prices/EPAM/EPAM_2015.parquet', '../../05_src/data/prices/EPAM/EPAM_2023.parquet', '../../05_src/data/prices/CRL/CRL_2021.parquet', '../../05_src/data/prices/CRL/CRL_2017.parquet', '../../05_src/data/prices/CRL/CRL_2016.parquet', '../../05_src/data/prices/CRL/CRL_2020.parquet', '../../05_src/data/prices/CRL/CRL_2014.parquet', '../../05_src/data/prices/CRL/CRL_2022.parquet', '../../05_src/data/prices/CRL/CRL_2023.parquet', '../../05_src/data/prices/CRL/CRL_2015.parquet', '../../05_src/data/prices/CRL/CRL_2019.parquet', '../../05_src/data/prices/CRL/CRL_2018.parquet', '../../05_src/data/prices/CRL/CRL_2013.parquet', '../../05_src/data/prices/CRL/CRL_2024.parquet', '../../05_src/data/prices/QCOM/QCOM_2023.parquet', '../../05_src/data/prices/QCOM/QCOM_2015.parquet', '../../05_src/data/prices/QCOM/QCOM_2014.parquet', '../../05_src/data/prices/QCOM/QCOM_2022.parquet', '../../05_src/data/prices/QCOM/QCOM_2016.parquet', '../../05_src/data/prices/QCOM/QCOM_2020.parquet', '../../05_src/data/prices/QCOM/QCOM_2021.parquet', '../../05_src/data/prices/QCOM/QCOM_2017.parquet', '../../05_src/data/prices/QCOM/QCOM_2024.parquet', '../../05_src/data/prices/QCOM/QCOM_2013.parquet', '../../05_src/data/prices/QCOM/QCOM_2018.parquet', '../../05_src/data/prices/QCOM/QCOM_2019.parquet', '../../05_src/data/prices/IT/IT_2023.parquet', '../../05_src/data/prices/IT/IT_2015.parquet', '../../05_src/data/prices/IT/IT_2014.parquet', '../../05_src/data/prices/IT/IT_2022.parquet', '../../05_src/data/prices/IT/IT_2016.parquet', '../../05_src/data/prices/IT/IT_2020.parquet', '../../05_src/data/prices/IT/IT_2021.parquet', '../../05_src/data/prices/IT/IT_2017.parquet', '../../05_src/data/prices/IT/IT_2024.parquet', '../../05_src/data/prices/IT/IT_2013.parquet', '../../05_src/data/prices/IT/IT_2018.parquet', '../../05_src/data/prices/IT/IT_2019.parquet', '../../05_src/data/prices/BBY/BBY_2018.parquet', '../../05_src/data/prices/BBY/BBY_2019.parquet', '../../05_src/data/prices/BBY/BBY_2024.parquet', '../../05_src/data/prices/BBY/BBY_2013.parquet', '../../05_src/data/prices/BBY/BBY_2016.parquet', '../../05_src/data/prices/BBY/BBY_2020.parquet', '../../05_src/data/prices/BBY/BBY_2021.parquet', '../../05_src/data/prices/BBY/BBY_2017.parquet', '../../05_src/data/prices/BBY/BBY_2023.parquet', '../../05_src/data/prices/BBY/BBY_2015.parquet', '../../05_src/data/prices/BBY/BBY_2014.parquet', '../../05_src/data/prices/BBY/BBY_2022.parquet', '../../05_src/data/prices/ED/ED_2014.parquet', '../../05_src/data/prices/ED/ED_2022.parquet', '../../05_src/data/prices/ED/ED_2023.parquet', '../../05_src/data/prices/ED/ED_2015.parquet', '../../05_src/data/prices/ED/ED_2021.parquet', '../../05_src/data/prices/ED/ED_2017.parquet', '../../05_src/data/prices/ED/ED_2016.parquet', '../../05_src/data/prices/ED/ED_2020.parquet', '../../05_src/data/prices/ED/ED_2013.parquet', '../../05_src/data/prices/ED/ED_2024.parquet', '../../05_src/data/prices/ED/ED_2019.parquet', '../../05_src/data/prices/ED/ED_2018.parquet', '../../05_src/data/prices/RHI/RHI_2024.parquet', '../../05_src/data/prices/RHI/RHI_2013.parquet', '../../05_src/data/prices/RHI/RHI_2018.parquet', '../../05_src/data/prices/RHI/RHI_2019.parquet', '../../05_src/data/prices/RHI/RHI_2015.parquet', '../../05_src/data/prices/RHI/RHI_2023.parquet', '../../05_src/data/prices/RHI/RHI_2022.parquet', '../../05_src/data/prices/RHI/RHI_2014.parquet', '../../05_src/data/prices/RHI/RHI_2020.parquet', '../../05_src/data/prices/RHI/RHI_2016.parquet', '../../05_src/data/prices/RHI/RHI_2017.parquet', '../../05_src/data/prices/RHI/RHI_2021.parquet', '../../05_src/data/prices/BSX/BSX_2019.parquet', '../../05_src/data/prices/BSX/BSX_2018.parquet', '../../05_src/data/prices/BSX/BSX_2013.parquet', '../../05_src/data/prices/BSX/BSX_2024.parquet', '../../05_src/data/prices/BSX/BSX_2017.parquet', '../../05_src/data/prices/BSX/BSX_2021.parquet', '../../05_src/data/prices/BSX/BSX_2020.parquet', '../../05_src/data/prices/BSX/BSX_2016.parquet', '../../05_src/data/prices/BSX/BSX_2022.parquet', '../../05_src/data/prices/BSX/BSX_2014.parquet', '../../05_src/data/prices/BSX/BSX_2015.parquet', '../../05_src/data/prices/BSX/BSX_2023.parquet', '../../05_src/data/prices/WTW/WTW_2024.parquet', '../../05_src/data/prices/WTW/WTW_2013.parquet', '../../05_src/data/prices/WTW/WTW_2018.parquet', '../../05_src/data/prices/WTW/WTW_2019.parquet', '../../05_src/data/prices/WTW/WTW_2015.parquet', '../../05_src/data/prices/WTW/WTW_2023.parquet', '../../05_src/data/prices/WTW/WTW_2022.parquet', '../../05_src/data/prices/WTW/WTW_2014.parquet', '../../05_src/data/prices/WTW/WTW_2020.parquet', '../../05_src/data/prices/WTW/WTW_2016.parquet', '../../05_src/data/prices/WTW/WTW_2017.parquet', '../../05_src/data/prices/WTW/WTW_2021.parquet', '../../05_src/data/prices/LYB/LYB_2020.parquet', '../../05_src/data/prices/LYB/LYB_2016.parquet', '../../05_src/data/prices/LYB/LYB_2017.parquet', '../../05_src/data/prices/LYB/LYB_2021.parquet', '../../05_src/data/prices/LYB/LYB_2015.parquet', '../../05_src/data/prices/LYB/LYB_2023.parquet', '../../05_src/data/prices/LYB/LYB_2022.parquet', '../../05_src/data/prices/LYB/LYB_2014.parquet', '../../05_src/data/prices/LYB/LYB_2018.parquet', '../../05_src/data/prices/LYB/LYB_2019.parquet', '../../05_src/data/prices/LYB/LYB_2024.parquet', '../../05_src/data/prices/LYB/LYB_2013.parquet', '../../05_src/data/prices/NFLX/NFLX_2018.parquet', '../../05_src/data/prices/NFLX/NFLX_2019.parquet', '../../05_src/data/prices/NFLX/NFLX_2024.parquet', '../../05_src/data/prices/NFLX/NFLX_2013.parquet', '../../05_src/data/prices/NFLX/NFLX_2020.parquet', '../../05_src/data/prices/NFLX/NFLX_2016.parquet', '../../05_src/data/prices/NFLX/NFLX_2017.parquet', '../../05_src/data/prices/NFLX/NFLX_2021.parquet', '../../05_src/data/prices/NFLX/NFLX_2015.parquet', '../../05_src/data/prices/NFLX/NFLX_2023.parquet', '../../05_src/data/prices/NFLX/NFLX_2022.parquet', '../../05_src/data/prices/NFLX/NFLX_2014.parquet', '../../05_src/data/prices/CBRE/CBRE_2014.parquet', '../../05_src/data/prices/CBRE/CBRE_2022.parquet', '../../05_src/data/prices/CBRE/CBRE_2023.parquet', '../../05_src/data/prices/CBRE/CBRE_2015.parquet', '../../05_src/data/prices/CBRE/CBRE_2021.parquet', '../../05_src/data/prices/CBRE/CBRE_2017.parquet', '../../05_src/data/prices/CBRE/CBRE_2016.parquet', '../../05_src/data/prices/CBRE/CBRE_2020.parquet', '../../05_src/data/prices/CBRE/CBRE_2013.parquet', '../../05_src/data/prices/CBRE/CBRE_2024.parquet', '../../05_src/data/prices/CBRE/CBRE_2019.parquet', '../../05_src/data/prices/CBRE/CBRE_2018.parquet', '../../05_src/data/prices/NUE/NUE_2024.parquet', '../../05_src/data/prices/NUE/NUE_2013.parquet', '../../05_src/data/prices/NUE/NUE_2018.parquet', '../../05_src/data/prices/NUE/NUE_2019.parquet', '../../05_src/data/prices/NUE/NUE_2023.parquet', '../../05_src/data/prices/NUE/NUE_2015.parquet', '../../05_src/data/prices/NUE/NUE_2014.parquet', '../../05_src/data/prices/NUE/NUE_2022.parquet', '../../05_src/data/prices/NUE/NUE_2016.parquet', '../../05_src/data/prices/NUE/NUE_2020.parquet', '../../05_src/data/prices/NUE/NUE_2021.parquet', '../../05_src/data/prices/NUE/NUE_2017.parquet', '../../05_src/data/prices/A/A_2013.parquet', '../../05_src/data/prices/A/A_2024.parquet', '../../05_src/data/prices/A/A_2019.parquet', '../../05_src/data/prices/A/A_2018.parquet', '../../05_src/data/prices/A/A_2014.parquet', '../../05_src/data/prices/A/A_2022.parquet', '../../05_src/data/prices/A/A_2023.parquet', '../../05_src/data/prices/A/A_2015.parquet', '../../05_src/data/prices/A/A_2021.parquet', '../../05_src/data/prices/A/A_2017.parquet', '../../05_src/data/prices/A/A_2016.parquet', '../../05_src/data/prices/A/A_2020.parquet', '../../05_src/data/prices/IBM/IBM_2018.parquet', '../../05_src/data/prices/IBM/IBM_2019.parquet', '../../05_src/data/prices/IBM/IBM_2024.parquet', '../../05_src/data/prices/IBM/IBM_2013.parquet', '../../05_src/data/prices/IBM/IBM_2016.parquet', '../../05_src/data/prices/IBM/IBM_2020.parquet', '../../05_src/data/prices/IBM/IBM_2021.parquet', '../../05_src/data/prices/IBM/IBM_2017.parquet', '../../05_src/data/prices/IBM/IBM_2023.parquet', '../../05_src/data/prices/IBM/IBM_2015.parquet', '../../05_src/data/prices/IBM/IBM_2014.parquet', '../../05_src/data/prices/IBM/IBM_2022.parquet', '../../05_src/data/prices/YUM/YUM_2013.parquet', '../../05_src/data/prices/YUM/YUM_2024.parquet', '../../05_src/data/prices/YUM/YUM_2019.parquet', '../../05_src/data/prices/YUM/YUM_2018.parquet', '../../05_src/data/prices/YUM/YUM_2014.parquet', '../../05_src/data/prices/YUM/YUM_2022.parquet', '../../05_src/data/prices/YUM/YUM_2023.parquet', '../../05_src/data/prices/YUM/YUM_2015.parquet', '../../05_src/data/prices/YUM/YUM_2021.parquet', '../../05_src/data/prices/YUM/YUM_2017.parquet', '../../05_src/data/prices/YUM/YUM_2016.parquet', '../../05_src/data/prices/YUM/YUM_2020.parquet', '../../05_src/data/prices/MDT/MDT_2017.parquet', '../../05_src/data/prices/MDT/MDT_2021.parquet', '../../05_src/data/prices/MDT/MDT_2020.parquet', '../../05_src/data/prices/MDT/MDT_2016.parquet', '../../05_src/data/prices/MDT/MDT_2022.parquet', '../../05_src/data/prices/MDT/MDT_2014.parquet', '../../05_src/data/prices/MDT/MDT_2015.parquet', '../../05_src/data/prices/MDT/MDT_2023.parquet', '../../05_src/data/prices/MDT/MDT_2019.parquet', '../../05_src/data/prices/MDT/MDT_2018.parquet', '../../05_src/data/prices/MDT/MDT_2013.parquet', '../../05_src/data/prices/MDT/MDT_2024.parquet', '../../05_src/data/prices/ABT/ABT_2019.parquet', '../../05_src/data/prices/ABT/ABT_2018.parquet', '../../05_src/data/prices/ABT/ABT_2013.parquet', '../../05_src/data/prices/ABT/ABT_2024.parquet', '../../05_src/data/prices/ABT/ABT_2017.parquet', '../../05_src/data/prices/ABT/ABT_2021.parquet', '../../05_src/data/prices/ABT/ABT_2020.parquet', '../../05_src/data/prices/ABT/ABT_2016.parquet', '../../05_src/data/prices/ABT/ABT_2022.parquet', '../../05_src/data/prices/ABT/ABT_2014.parquet', '../../05_src/data/prices/ABT/ABT_2015.parquet', '../../05_src/data/prices/ABT/ABT_2023.parquet', '../../05_src/data/prices/DOW/DOW_2023.parquet', '../../05_src/data/prices/DOW/DOW_2022.parquet', '../../05_src/data/prices/DOW/DOW_2020.parquet', '../../05_src/data/prices/DOW/DOW_2021.parquet', '../../05_src/data/prices/DOW/DOW_2024.parquet', '../../05_src/data/prices/DOW/DOW_2019.parquet', '../../05_src/data/prices/CPB/CPB_2023.parquet', '../../05_src/data/prices/CPB/CPB_2015.parquet', '../../05_src/data/prices/CPB/CPB_2014.parquet', '../../05_src/data/prices/CPB/CPB_2022.parquet', '../../05_src/data/prices/CPB/CPB_2016.parquet', '../../05_src/data/prices/CPB/CPB_2020.parquet', '../../05_src/data/prices/CPB/CPB_2021.parquet', '../../05_src/data/prices/CPB/CPB_2017.parquet', '../../05_src/data/prices/CPB/CPB_2024.parquet', '../../05_src/data/prices/CPB/CPB_2013.parquet', '../../05_src/data/prices/CPB/CPB_2018.parquet', '../../05_src/data/prices/CPB/CPB_2019.parquet', '../../05_src/data/prices/WDC/WDC_2014.parquet', '../../05_src/data/prices/WDC/WDC_2022.parquet', '../../05_src/data/prices/WDC/WDC_2023.parquet', '../../05_src/data/prices/WDC/WDC_2015.parquet', '../../05_src/data/prices/WDC/WDC_2021.parquet', '../../05_src/data/prices/WDC/WDC_2017.parquet', '../../05_src/data/prices/WDC/WDC_2016.parquet', '../../05_src/data/prices/WDC/WDC_2020.parquet', '../../05_src/data/prices/WDC/WDC_2013.parquet', '../../05_src/data/prices/WDC/WDC_2024.parquet', '../../05_src/data/prices/WDC/WDC_2019.parquet', '../../05_src/data/prices/WDC/WDC_2018.parquet', '../../05_src/data/prices/VICI/VICI_2022.parquet', '../../05_src/data/prices/VICI/VICI_2023.parquet', '../../05_src/data/prices/VICI/VICI_2021.parquet', '../../05_src/data/prices/VICI/VICI_2020.parquet', '../../05_src/data/prices/VICI/VICI_2024.parquet', '../../05_src/data/prices/VICI/VICI_2019.parquet', '../../05_src/data/prices/VICI/VICI_2018.parquet', '../../05_src/data/prices/JCI/JCI_2013.parquet', '../../05_src/data/prices/JCI/JCI_2024.parquet', '../../05_src/data/prices/JCI/JCI_2019.parquet', '../../05_src/data/prices/JCI/JCI_2018.parquet', '../../05_src/data/prices/JCI/JCI_2014.parquet', '../../05_src/data/prices/JCI/JCI_2022.parquet', '../../05_src/data/prices/JCI/JCI_2023.parquet', '../../05_src/data/prices/JCI/JCI_2015.parquet', '../../05_src/data/prices/JCI/JCI_2021.parquet', '../../05_src/data/prices/JCI/JCI_2017.parquet', '../../05_src/data/prices/JCI/JCI_2016.parquet', '../../05_src/data/prices/JCI/JCI_2020.parquet', '../../05_src/data/prices/NEM/NEM_2019.parquet', '../../05_src/data/prices/NEM/NEM_2018.parquet', '../../05_src/data/prices/NEM/NEM_2013.parquet', '../../05_src/data/prices/NEM/NEM_2024.parquet', '../../05_src/data/prices/NEM/NEM_2021.parquet', '../../05_src/data/prices/NEM/NEM_2017.parquet', '../../05_src/data/prices/NEM/NEM_2016.parquet', '../../05_src/data/prices/NEM/NEM_2020.parquet', '../../05_src/data/prices/NEM/NEM_2014.parquet', '../../05_src/data/prices/NEM/NEM_2022.parquet', '../../05_src/data/prices/NEM/NEM_2023.parquet', '../../05_src/data/prices/NEM/NEM_2015.parquet', '../../05_src/data/prices/AMGN/AMGN_2013.parquet', '../../05_src/data/prices/AMGN/AMGN_2024.parquet', '../../05_src/data/prices/AMGN/AMGN_2019.parquet', '../../05_src/data/prices/AMGN/AMGN_2018.parquet', '../../05_src/data/prices/AMGN/AMGN_2022.parquet', '../../05_src/data/prices/AMGN/AMGN_2014.parquet', '../../05_src/data/prices/AMGN/AMGN_2015.parquet', '../../05_src/data/prices/AMGN/AMGN_2023.parquet', '../../05_src/data/prices/AMGN/AMGN_2017.parquet', '../../05_src/data/prices/AMGN/AMGN_2021.parquet', '../../05_src/data/prices/AMGN/AMGN_2020.parquet', '../../05_src/data/prices/AMGN/AMGN_2016.parquet', '../../05_src/data/prices/BR/BR_2013.parquet', '../../05_src/data/prices/BR/BR_2024.parquet', '../../05_src/data/prices/BR/BR_2019.parquet', '../../05_src/data/prices/BR/BR_2018.parquet', '../../05_src/data/prices/BR/BR_2022.parquet', '../../05_src/data/prices/BR/BR_2014.parquet', '../../05_src/data/prices/BR/BR_2015.parquet', '../../05_src/data/prices/BR/BR_2023.parquet', '../../05_src/data/prices/BR/BR_2017.parquet', '../../05_src/data/prices/BR/BR_2021.parquet', '../../05_src/data/prices/BR/BR_2020.parquet', '../../05_src/data/prices/BR/BR_2016.parquet', '../../05_src/data/prices/HAS/HAS_2019.parquet', '../../05_src/data/prices/HAS/HAS_2018.parquet', '../../05_src/data/prices/HAS/HAS_2013.parquet', '../../05_src/data/prices/HAS/HAS_2024.parquet', '../../05_src/data/prices/HAS/HAS_2017.parquet', '../../05_src/data/prices/HAS/HAS_2021.parquet', '../../05_src/data/prices/HAS/HAS_2020.parquet', '../../05_src/data/prices/HAS/HAS_2016.parquet', '../../05_src/data/prices/HAS/HAS_2022.parquet', '../../05_src/data/prices/HAS/HAS_2014.parquet', '../../05_src/data/prices/HAS/HAS_2015.parquet', '../../05_src/data/prices/HAS/HAS_2023.parquet', '../../05_src/data/prices/GWW/GWW_2023.parquet', '../../05_src/data/prices/GWW/GWW_2015.parquet', '../../05_src/data/prices/GWW/GWW_2014.parquet', '../../05_src/data/prices/GWW/GWW_2022.parquet', '../../05_src/data/prices/GWW/GWW_2016.parquet', '../../05_src/data/prices/GWW/GWW_2020.parquet', '../../05_src/data/prices/GWW/GWW_2021.parquet', '../../05_src/data/prices/GWW/GWW_2017.parquet', '../../05_src/data/prices/GWW/GWW_2024.parquet', '../../05_src/data/prices/GWW/GWW_2013.parquet', '../../05_src/data/prices/GWW/GWW_2018.parquet', '../../05_src/data/prices/GWW/GWW_2019.parquet', '../../05_src/data/prices/BKNG/BKNG_2018.parquet', '../../05_src/data/prices/BKNG/BKNG_2019.parquet', '../../05_src/data/prices/BKNG/BKNG_2024.parquet', '../../05_src/data/prices/BKNG/BKNG_2013.parquet', '../../05_src/data/prices/BKNG/BKNG_2016.parquet', '../../05_src/data/prices/BKNG/BKNG_2020.parquet', '../../05_src/data/prices/BKNG/BKNG_2021.parquet', '../../05_src/data/prices/BKNG/BKNG_2017.parquet', '../../05_src/data/prices/BKNG/BKNG_2023.parquet', '../../05_src/data/prices/BKNG/BKNG_2015.parquet', '../../05_src/data/prices/BKNG/BKNG_2014.parquet', '../../05_src/data/prices/BKNG/BKNG_2022.parquet', '../../05_src/data/prices/ABNB/ABNB_2024.parquet', '../../05_src/data/prices/ABNB/ABNB_2022.parquet', '../../05_src/data/prices/ABNB/ABNB_2023.parquet', '../../05_src/data/prices/ABNB/ABNB_2021.parquet', '../../05_src/data/prices/ABNB/ABNB_2020.parquet', '../../05_src/data/prices/V/V_2014.parquet', '../../05_src/data/prices/V/V_2022.parquet', '../../05_src/data/prices/V/V_2023.parquet', '../../05_src/data/prices/V/V_2015.parquet', '../../05_src/data/prices/V/V_2021.parquet', '../../05_src/data/prices/V/V_2017.parquet', '../../05_src/data/prices/V/V_2016.parquet', '../../05_src/data/prices/V/V_2020.parquet', '../../05_src/data/prices/V/V_2013.parquet', '../../05_src/data/prices/V/V_2024.parquet', '../../05_src/data/prices/V/V_2019.parquet', '../../05_src/data/prices/V/V_2018.parquet', '../../05_src/data/prices/PNW/PNW_2023.parquet', '../../05_src/data/prices/PNW/PNW_2015.parquet', '../../05_src/data/prices/PNW/PNW_2014.parquet', '../../05_src/data/prices/PNW/PNW_2022.parquet', '../../05_src/data/prices/PNW/PNW_2016.parquet', '../../05_src/data/prices/PNW/PNW_2020.parquet', '../../05_src/data/prices/PNW/PNW_2021.parquet', '../../05_src/data/prices/PNW/PNW_2017.parquet', '../../05_src/data/prices/PNW/PNW_2024.parquet', '../../05_src/data/prices/PNW/PNW_2013.parquet', '../../05_src/data/prices/PNW/PNW_2018.parquet', '../../05_src/data/prices/PNW/PNW_2019.parquet', '../../05_src/data/prices/RL/RL_2017.parquet', '../../05_src/data/prices/RL/RL_2021.parquet', '../../05_src/data/prices/RL/RL_2020.parquet', '../../05_src/data/prices/RL/RL_2016.parquet', '../../05_src/data/prices/RL/RL_2022.parquet', '../../05_src/data/prices/RL/RL_2014.parquet', '../../05_src/data/prices/RL/RL_2015.parquet', '../../05_src/data/prices/RL/RL_2023.parquet', '../../05_src/data/prices/RL/RL_2019.parquet', '../../05_src/data/prices/RL/RL_2018.parquet', '../../05_src/data/prices/RL/RL_2013.parquet', '../../05_src/data/prices/RL/RL_2024.parquet', '../../05_src/data/prices/EXPE/EXPE_2017.parquet', '../../05_src/data/prices/EXPE/EXPE_2021.parquet', '../../05_src/data/prices/EXPE/EXPE_2020.parquet', '../../05_src/data/prices/EXPE/EXPE_2016.parquet', '../../05_src/data/prices/EXPE/EXPE_2022.parquet', '../../05_src/data/prices/EXPE/EXPE_2014.parquet', '../../05_src/data/prices/EXPE/EXPE_2015.parquet', '../../05_src/data/prices/EXPE/EXPE_2023.parquet', '../../05_src/data/prices/EXPE/EXPE_2019.parquet', '../../05_src/data/prices/EXPE/EXPE_2018.parquet', '../../05_src/data/prices/EXPE/EXPE_2013.parquet', '../../05_src/data/prices/EXPE/EXPE_2024.parquet']\n"
     ]
    }
   ],
   "source": [
    "parquet_files = glob(os.path.join(price_data_path, '**','*.parquet'), recursive = True)\n",
    "print(f\"Parquet files: {parquet_files}\")"
   ]
  },
  {
   "cell_type": "markdown",
   "metadata": {},
   "source": [
    "For each ticker and using Dask, do the following:\n",
    "\n",
    "+ Add lags for variables Close and Adj_Close.\n",
    "+ Add returns based on Adjusted Close:\n",
    "    \n",
    "    - `returns`: (Adj Close / Adj Close_lag) - 1\n",
    "\n",
    "+ Add the following range: \n",
    "\n",
    "    - `hi_lo_range`: this is the day's High minus Low.\n",
    "\n",
    "+ Assign the result to `dd_feat`.\n",
    "\n",
    "(4 pt)"
   ]
  },
  {
   "cell_type": "code",
   "execution_count": 9,
   "metadata": {},
   "outputs": [
    {
     "name": "stdout",
     "output_type": "stream",
     "text": [
      "Columns in the DataFrame: Index(['Date', 'Open', 'High', 'Low', 'Close', 'Volume', 'Dividends',\n",
      "       'Stock Splits', 'ticker', 'year', 'Close_lag'],\n",
      "      dtype='object')\n"
     ]
    }
   ],
   "source": [
    "# Write your code below.\n",
    "\n",
    "print(f\"Columns in the DataFrame: {ddf.columns}\")"
   ]
  },
  {
   "cell_type": "code",
   "execution_count": 10,
   "metadata": {},
   "outputs": [
    {
     "name": "stdout",
     "output_type": "stream",
     "text": [
      "Columns in the DataFrame: Index(['Date', 'Open', 'High', 'Low', 'Close', 'Volume', 'Dividends',\n",
      "       'Stock Splits', 'ticker', 'year'],\n",
      "      dtype='object')\n"
     ]
    }
   ],
   "source": [
    "if parquet_files:\n",
    "    # Load the parquet files using Dask\n",
    "    ddf = dd.read_parquet(parquet_files)\n",
    "\n",
    "    # Print column names to diagnose the issue\n",
    "    print(f\"Columns in the DataFrame: {ddf.columns}\")\n",
    "\n",
    "    # Add lags for the Close variable if it exists\n",
    "    if 'Close' in ddf.columns:\n",
    "        ddf['Close_lag'] = ddf['Close'].shift(1)\n",
    "        # Add returns based on Close\n",
    "        ddf['returns'] = (ddf['Close'] / ddf['Close_lag']) - 1\n",
    "    else:\n",
    "        print(\"Column 'Close' not found in the DataFrame\")"
   ]
  },
  {
   "cell_type": "code",
   "execution_count": 12,
   "metadata": {},
   "outputs": [],
   "source": [
    "# Add the hi_lo_range: this is the day's High minus Low\n",
    "if 'High' in ddf.columns and 'Low' in ddf.columns:\n",
    "        ddf['hi_lo_range'] = ddf['High'] - ddf['Low']\n",
    "else:\n",
    "        print(\"Columns 'High' and/or 'Low' not found in the DataFrame\")\n",
    "\n",
    "# Assign the result to dd_feat\n",
    "dd_feat = ddf\n",
    "\n",
    "# Convert the Dask DataFrame to a pandas DataFrame\n",
    "df = dd_feat.compute()"
   ]
  },
  {
   "cell_type": "code",
   "execution_count": 13,
   "metadata": {},
   "outputs": [
    {
     "data": {
      "text/html": [
       "<div>\n",
       "<style scoped>\n",
       "    .dataframe tbody tr th:only-of-type {\n",
       "        vertical-align: middle;\n",
       "    }\n",
       "\n",
       "    .dataframe tbody tr th {\n",
       "        vertical-align: top;\n",
       "    }\n",
       "\n",
       "    .dataframe thead th {\n",
       "        text-align: right;\n",
       "    }\n",
       "</style>\n",
       "<table border=\"1\" class=\"dataframe\">\n",
       "  <thead>\n",
       "    <tr style=\"text-align: right;\">\n",
       "      <th></th>\n",
       "      <th>Date</th>\n",
       "      <th>Open</th>\n",
       "      <th>High</th>\n",
       "      <th>Low</th>\n",
       "      <th>Close</th>\n",
       "      <th>Volume</th>\n",
       "      <th>Dividends</th>\n",
       "      <th>Stock Splits</th>\n",
       "      <th>ticker</th>\n",
       "      <th>year</th>\n",
       "      <th>Close_lag</th>\n",
       "      <th>returns</th>\n",
       "      <th>hi_lo_range</th>\n",
       "    </tr>\n",
       "  </thead>\n",
       "  <tbody>\n",
       "    <tr>\n",
       "      <th>0</th>\n",
       "      <td>2013-12-02 00:00:00-05:00</td>\n",
       "      <td>34.995839</td>\n",
       "      <td>35.126735</td>\n",
       "      <td>34.760220</td>\n",
       "      <td>34.825668</td>\n",
       "      <td>2039962</td>\n",
       "      <td>0.0</td>\n",
       "      <td>0.0</td>\n",
       "      <td>A</td>\n",
       "      <td>2013</td>\n",
       "      <td>NaN</td>\n",
       "      <td>NaN</td>\n",
       "      <td>0.366515</td>\n",
       "    </tr>\n",
       "    <tr>\n",
       "      <th>1</th>\n",
       "      <td>2013-12-03 00:00:00-05:00</td>\n",
       "      <td>34.635858</td>\n",
       "      <td>34.799484</td>\n",
       "      <td>34.400240</td>\n",
       "      <td>34.642403</td>\n",
       "      <td>3462706</td>\n",
       "      <td>0.0</td>\n",
       "      <td>0.0</td>\n",
       "      <td>A</td>\n",
       "      <td>2013</td>\n",
       "      <td>34.825668</td>\n",
       "      <td>-0.005262</td>\n",
       "      <td>0.399244</td>\n",
       "    </tr>\n",
       "    <tr>\n",
       "      <th>2</th>\n",
       "      <td>2013-12-04 00:00:00-05:00</td>\n",
       "      <td>34.583484</td>\n",
       "      <td>35.231436</td>\n",
       "      <td>34.504947</td>\n",
       "      <td>35.067810</td>\n",
       "      <td>3377288</td>\n",
       "      <td>0.0</td>\n",
       "      <td>0.0</td>\n",
       "      <td>A</td>\n",
       "      <td>2013</td>\n",
       "      <td>34.642403</td>\n",
       "      <td>0.012280</td>\n",
       "      <td>0.726489</td>\n",
       "    </tr>\n",
       "    <tr>\n",
       "      <th>3</th>\n",
       "      <td>2013-12-05 00:00:00-05:00</td>\n",
       "      <td>34.917291</td>\n",
       "      <td>35.211813</td>\n",
       "      <td>34.766757</td>\n",
       "      <td>35.015465</td>\n",
       "      <td>2530939</td>\n",
       "      <td>0.0</td>\n",
       "      <td>0.0</td>\n",
       "      <td>A</td>\n",
       "      <td>2013</td>\n",
       "      <td>35.067810</td>\n",
       "      <td>-0.001493</td>\n",
       "      <td>0.445056</td>\n",
       "    </tr>\n",
       "    <tr>\n",
       "      <th>4</th>\n",
       "      <td>2013-12-06 00:00:00-05:00</td>\n",
       "      <td>35.185618</td>\n",
       "      <td>35.951373</td>\n",
       "      <td>35.185618</td>\n",
       "      <td>35.885925</td>\n",
       "      <td>4268513</td>\n",
       "      <td>0.0</td>\n",
       "      <td>0.0</td>\n",
       "      <td>A</td>\n",
       "      <td>2013</td>\n",
       "      <td>35.015465</td>\n",
       "      <td>0.024859</td>\n",
       "      <td>0.765755</td>\n",
       "    </tr>\n",
       "  </tbody>\n",
       "</table>\n",
       "</div>"
      ],
      "text/plain": [
       "                       Date       Open       High        Low      Close  \\\n",
       "0 2013-12-02 00:00:00-05:00  34.995839  35.126735  34.760220  34.825668   \n",
       "1 2013-12-03 00:00:00-05:00  34.635858  34.799484  34.400240  34.642403   \n",
       "2 2013-12-04 00:00:00-05:00  34.583484  35.231436  34.504947  35.067810   \n",
       "3 2013-12-05 00:00:00-05:00  34.917291  35.211813  34.766757  35.015465   \n",
       "4 2013-12-06 00:00:00-05:00  35.185618  35.951373  35.185618  35.885925   \n",
       "\n",
       "    Volume  Dividends  Stock Splits ticker  year  Close_lag   returns  \\\n",
       "0  2039962        0.0           0.0      A  2013        NaN       NaN   \n",
       "1  3462706        0.0           0.0      A  2013  34.825668 -0.005262   \n",
       "2  3377288        0.0           0.0      A  2013  34.642403  0.012280   \n",
       "3  2530939        0.0           0.0      A  2013  35.067810 -0.001493   \n",
       "4  4268513        0.0           0.0      A  2013  35.015465  0.024859   \n",
       "\n",
       "   hi_lo_range  \n",
       "0     0.366515  \n",
       "1     0.399244  \n",
       "2     0.726489  \n",
       "3     0.445056  \n",
       "4     0.765755  "
      ]
     },
     "execution_count": 13,
     "metadata": {},
     "output_type": "execute_result"
    }
   ],
   "source": [
    "df.head()"
   ]
  },
  {
   "cell_type": "markdown",
   "metadata": {},
   "source": [
    "+ Convert the Dask data frame to a pandas data frame. \n",
    "+ Add a rolling average return calculation with a window of 10 days.\n",
    "+ *Tip*: Consider using `.rolling(10).mean()`.\n",
    "\n",
    "(3 pt)"
   ]
  },
  {
   "cell_type": "code",
   "execution_count": 17,
   "metadata": {},
   "outputs": [
    {
     "data": {
      "text/html": [
       "<div>\n",
       "<style scoped>\n",
       "    .dataframe tbody tr th:only-of-type {\n",
       "        vertical-align: middle;\n",
       "    }\n",
       "\n",
       "    .dataframe tbody tr th {\n",
       "        vertical-align: top;\n",
       "    }\n",
       "\n",
       "    .dataframe thead th {\n",
       "        text-align: right;\n",
       "    }\n",
       "</style>\n",
       "<table border=\"1\" class=\"dataframe\">\n",
       "  <thead>\n",
       "    <tr style=\"text-align: right;\">\n",
       "      <th></th>\n",
       "      <th>Date</th>\n",
       "      <th>Open</th>\n",
       "      <th>High</th>\n",
       "      <th>Low</th>\n",
       "      <th>Close</th>\n",
       "      <th>Volume</th>\n",
       "      <th>Dividends</th>\n",
       "      <th>Stock Splits</th>\n",
       "      <th>ticker</th>\n",
       "      <th>year</th>\n",
       "      <th>Close_lag</th>\n",
       "      <th>returns</th>\n",
       "      <th>hi_lo_range</th>\n",
       "      <th>rolling_avg_returns</th>\n",
       "    </tr>\n",
       "  </thead>\n",
       "  <tbody>\n",
       "    <tr>\n",
       "      <th>0</th>\n",
       "      <td>2013-12-02 00:00:00-05:00</td>\n",
       "      <td>34.995839</td>\n",
       "      <td>35.126735</td>\n",
       "      <td>34.760220</td>\n",
       "      <td>34.825668</td>\n",
       "      <td>2039962</td>\n",
       "      <td>0.0</td>\n",
       "      <td>0.0</td>\n",
       "      <td>A</td>\n",
       "      <td>2013</td>\n",
       "      <td>NaN</td>\n",
       "      <td>NaN</td>\n",
       "      <td>0.366515</td>\n",
       "      <td>NaN</td>\n",
       "    </tr>\n",
       "    <tr>\n",
       "      <th>1</th>\n",
       "      <td>2013-12-03 00:00:00-05:00</td>\n",
       "      <td>34.635858</td>\n",
       "      <td>34.799484</td>\n",
       "      <td>34.400240</td>\n",
       "      <td>34.642403</td>\n",
       "      <td>3462706</td>\n",
       "      <td>0.0</td>\n",
       "      <td>0.0</td>\n",
       "      <td>A</td>\n",
       "      <td>2013</td>\n",
       "      <td>34.825668</td>\n",
       "      <td>-0.005262</td>\n",
       "      <td>0.399244</td>\n",
       "      <td>NaN</td>\n",
       "    </tr>\n",
       "    <tr>\n",
       "      <th>2</th>\n",
       "      <td>2013-12-04 00:00:00-05:00</td>\n",
       "      <td>34.583484</td>\n",
       "      <td>35.231436</td>\n",
       "      <td>34.504947</td>\n",
       "      <td>35.067810</td>\n",
       "      <td>3377288</td>\n",
       "      <td>0.0</td>\n",
       "      <td>0.0</td>\n",
       "      <td>A</td>\n",
       "      <td>2013</td>\n",
       "      <td>34.642403</td>\n",
       "      <td>0.012280</td>\n",
       "      <td>0.726489</td>\n",
       "      <td>NaN</td>\n",
       "    </tr>\n",
       "    <tr>\n",
       "      <th>3</th>\n",
       "      <td>2013-12-05 00:00:00-05:00</td>\n",
       "      <td>34.917291</td>\n",
       "      <td>35.211813</td>\n",
       "      <td>34.766757</td>\n",
       "      <td>35.015465</td>\n",
       "      <td>2530939</td>\n",
       "      <td>0.0</td>\n",
       "      <td>0.0</td>\n",
       "      <td>A</td>\n",
       "      <td>2013</td>\n",
       "      <td>35.067810</td>\n",
       "      <td>-0.001493</td>\n",
       "      <td>0.445056</td>\n",
       "      <td>NaN</td>\n",
       "    </tr>\n",
       "    <tr>\n",
       "      <th>4</th>\n",
       "      <td>2013-12-06 00:00:00-05:00</td>\n",
       "      <td>35.185618</td>\n",
       "      <td>35.951373</td>\n",
       "      <td>35.185618</td>\n",
       "      <td>35.885925</td>\n",
       "      <td>4268513</td>\n",
       "      <td>0.0</td>\n",
       "      <td>0.0</td>\n",
       "      <td>A</td>\n",
       "      <td>2013</td>\n",
       "      <td>35.015465</td>\n",
       "      <td>0.024859</td>\n",
       "      <td>0.765755</td>\n",
       "      <td>NaN</td>\n",
       "    </tr>\n",
       "  </tbody>\n",
       "</table>\n",
       "</div>"
      ],
      "text/plain": [
       "                       Date       Open       High        Low      Close  \\\n",
       "0 2013-12-02 00:00:00-05:00  34.995839  35.126735  34.760220  34.825668   \n",
       "1 2013-12-03 00:00:00-05:00  34.635858  34.799484  34.400240  34.642403   \n",
       "2 2013-12-04 00:00:00-05:00  34.583484  35.231436  34.504947  35.067810   \n",
       "3 2013-12-05 00:00:00-05:00  34.917291  35.211813  34.766757  35.015465   \n",
       "4 2013-12-06 00:00:00-05:00  35.185618  35.951373  35.185618  35.885925   \n",
       "\n",
       "    Volume  Dividends  Stock Splits ticker  year  Close_lag   returns  \\\n",
       "0  2039962        0.0           0.0      A  2013        NaN       NaN   \n",
       "1  3462706        0.0           0.0      A  2013  34.825668 -0.005262   \n",
       "2  3377288        0.0           0.0      A  2013  34.642403  0.012280   \n",
       "3  2530939        0.0           0.0      A  2013  35.067810 -0.001493   \n",
       "4  4268513        0.0           0.0      A  2013  35.015465  0.024859   \n",
       "\n",
       "   hi_lo_range  rolling_avg_returns  \n",
       "0     0.366515                  NaN  \n",
       "1     0.399244                  NaN  \n",
       "2     0.726489                  NaN  \n",
       "3     0.445056                  NaN  \n",
       "4     0.765755                  NaN  "
      ]
     },
     "execution_count": 17,
     "metadata": {},
     "output_type": "execute_result"
    }
   ],
   "source": [
    "# Write your code below.\n",
    "if 'returns' in df.columns:\n",
    "    df['rolling_avg_returns'] = df['returns'].rolling(window=10).mean()\n",
    "else:\n",
    "    print(\"Column 'returns' not found in the DataFrame\")\n",
    "\n",
    "# Display the resulting DataFrame\n",
    "df.head()"
   ]
  },
  {
   "cell_type": "code",
   "execution_count": 18,
   "metadata": {},
   "outputs": [],
   "source": [
    "df.to_csv('assignment1.csv')"
   ]
  },
  {
   "cell_type": "markdown",
   "metadata": {},
   "source": [
    "Please comment:\n",
    "\n",
    "+ Was it necessary to convert to pandas to calculate the moving average return?\n",
    "No,it was not necessary. Dask is designed to handle large datasets.\n",
    "\n",
    "+ Would it have been better to do it in Dask? Why?\n",
    "Yes, Dask is better at handling large datasets as it can handle operations that are larger than memory.\n",
    "(1 pt)"
   ]
  },
  {
   "cell_type": "markdown",
   "metadata": {},
   "source": [
    "## Criteria\n",
    "\n",
    "|Criteria|Complete|Incomplete|\n",
    "|---------------------|----|----|\n",
    "|Calculations         |Calculations were done correctly.|Calculations were not done correctly.|\n",
    "|Explanation of answer|Answer was concise and explained the learner's reasoning in depth.|Answer was not concise and did not explained the learner's reasoning in depth.|"
   ]
  },
  {
   "cell_type": "markdown",
   "metadata": {},
   "source": [
    "## Submission Information\n",
    "\n",
    "🚨 **Please review our [Assignment Submission Guide](https://github.com/UofT-DSI/onboarding/blob/main/onboarding_documents/submissions.md)** 🚨 for detailed instructions on how to format, branch, and submit your work. Following these guidelines is crucial for your submissions to be evaluated correctly.\n",
    "\n",
    "### Submission Parameters:\n",
    "* Submission Due Date: `HH:MM AM/PM - DD/MM/YYYY`\n",
    "* The branch name for your repo should be: `assignment-1`\n",
    "* What to submit for this assignment:\n",
    "    * This Jupyter Notebook (assignment_1.ipynb) should be populated and should be the only change in your pull request.\n",
    "* What the pull request link should look like for this assignment: `https://github.com/<your_github_username>/production/pull/<pr_id>`\n",
    "    * Open a private window in your browser. Copy and paste the link to your pull request into the address bar. Make sure you can see your pull request properly. This helps the technical facilitator and learning support staff review your submission easily.\n",
    "\n",
    "Checklist:\n",
    "- [ ] Created a branch with the correct naming convention.\n",
    "- [ ] Ensured that the repository is public.\n",
    "- [ ] Reviewed the PR description guidelines and adhered to them.\n",
    "- [ ] Verify that the link is accessible in a private browser window.\n",
    "\n",
    "If you encounter any difficulties or have questions, please don't hesitate to reach out to our team via our Slack at `#cohort-3-help`. Our Technical Facilitators and Learning Support staff are here to help you navigate any challenges."
   ]
  }
 ],
 "metadata": {
  "kernelspec": {
   "display_name": "env",
   "language": "python",
   "name": "python3"
  },
  "language_info": {
   "codemirror_mode": {
    "name": "ipython",
    "version": 3
   },
   "file_extension": ".py",
   "mimetype": "text/x-python",
   "name": "python",
   "nbconvert_exporter": "python",
   "pygments_lexer": "ipython3",
   "version": "3.9.19"
  }
 },
 "nbformat": 4,
 "nbformat_minor": 2
}
